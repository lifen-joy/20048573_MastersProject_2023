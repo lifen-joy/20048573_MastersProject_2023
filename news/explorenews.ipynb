{
 "cells": [
  {
   "attachments": {},
   "cell_type": "markdown",
   "metadata": {},
   "source": [
    "Datasource \n",
    "\n",
    "https://www.kaggle.com/datasets/thedevastator/women-in-headlines-bias?select=headlines.csv\n"
   ]
  },
  {
   "cell_type": "code",
   "execution_count": 1,
   "metadata": {},
   "outputs": [
    {
     "name": "stderr",
     "output_type": "stream",
     "text": [
      "[nltk_data] Downloading package stopwords to /Users/joyan/nltk_data...\n",
      "[nltk_data]   Package stopwords is already up-to-date!\n"
     ]
    }
   ],
   "source": [
    "#Imports \n",
    "\n",
    "import pandas as pd\n",
    "import numpy as np\n",
    "import seaborn as sns\n",
    "import matplotlib.pyplot as plt\n",
    "import seaborn\n",
    "%matplotlib inline\n",
    "\n",
    "from collections import Counter \n",
    "\n",
    "from nltk.stem.snowball import SnowballStemmer\n",
    "stemmer = SnowballStemmer('english')\n",
    "\n",
    "import nltk\n",
    "nltk.download('stopwords')\n",
    "from nltk.corpus import stopwords\n",
    "from nltk.tokenize import word_tokenize"
   ]
  },
  {
   "cell_type": "code",
   "execution_count": 2,
   "metadata": {},
   "outputs": [],
   "source": [
    "#Import data \n",
    "\n",
    "data = pd.read_csv('../news/headlines.csv')"
   ]
  },
  {
   "cell_type": "code",
   "execution_count": 3,
   "metadata": {},
   "outputs": [
    {
     "name": "stdout",
     "output_type": "stream",
     "text": [
      "<class 'pandas.core.frame.DataFrame'>\n",
      "RangeIndex: 382139 entries, 0 to 382138\n",
      "Data columns (total 8 columns):\n",
      " #   Column            Non-Null Count   Dtype  \n",
      "---  ------            --------------   -----  \n",
      " 0   index             382139 non-null  int64  \n",
      " 1   Unnamed: 0        382139 non-null  int64  \n",
      " 2   url               382139 non-null  object \n",
      " 3   headline_no_site  382139 non-null  object \n",
      " 4   site              382139 non-null  object \n",
      " 5   time              382139 non-null  object \n",
      " 6   country           382139 non-null  object \n",
      " 7   bias              382139 non-null  float64\n",
      "dtypes: float64(1), int64(2), object(5)\n",
      "memory usage: 23.3+ MB\n"
     ]
    }
   ],
   "source": [
    "#Explore dataset \n",
    "data.info()"
   ]
  },
  {
   "cell_type": "code",
   "execution_count": 4,
   "metadata": {},
   "outputs": [
    {
     "data": {
      "text/html": [
       "<div>\n",
       "<style scoped>\n",
       "    .dataframe tbody tr th:only-of-type {\n",
       "        vertical-align: middle;\n",
       "    }\n",
       "\n",
       "    .dataframe tbody tr th {\n",
       "        vertical-align: top;\n",
       "    }\n",
       "\n",
       "    .dataframe thead th {\n",
       "        text-align: right;\n",
       "    }\n",
       "</style>\n",
       "<table border=\"1\" class=\"dataframe\">\n",
       "  <thead>\n",
       "    <tr style=\"text-align: right;\">\n",
       "      <th></th>\n",
       "      <th>index</th>\n",
       "      <th>Unnamed: 0</th>\n",
       "      <th>url</th>\n",
       "      <th>headline_no_site</th>\n",
       "      <th>site</th>\n",
       "      <th>time</th>\n",
       "      <th>country</th>\n",
       "      <th>bias</th>\n",
       "    </tr>\n",
       "  </thead>\n",
       "  <tbody>\n",
       "    <tr>\n",
       "      <th>0</th>\n",
       "      <td>0</td>\n",
       "      <td>0</td>\n",
       "      <td>https://www.iol.co.za/entertainment/movies-the...</td>\n",
       "      <td>'Lady Bird' buzzes through young sexuality</td>\n",
       "      <td>iol.co.za</td>\n",
       "      <td>2018-02-23 08:00:00+00:00</td>\n",
       "      <td>South Africa</td>\n",
       "      <td>0.000000</td>\n",
       "    </tr>\n",
       "    <tr>\n",
       "      <th>1</th>\n",
       "      <td>1</td>\n",
       "      <td>1</td>\n",
       "      <td>https://www.iol.co.za/entertainment/music/the-...</td>\n",
       "      <td>The shadowy urban POP super Starrah who loves ...</td>\n",
       "      <td>iol.co.za</td>\n",
       "      <td>2018-01-10 08:00:00+00:00</td>\n",
       "      <td>South Africa</td>\n",
       "      <td>0.166667</td>\n",
       "    </tr>\n",
       "    <tr>\n",
       "      <th>2</th>\n",
       "      <td>2</td>\n",
       "      <td>2</td>\n",
       "      <td>https://www.iol.co.za/entertainment/celebrity-...</td>\n",
       "      <td>Rihanna pens heartfelt tribute to her mom in b...</td>\n",
       "      <td>iol.co.za</td>\n",
       "      <td>2018-02-21 08:00:00+00:00</td>\n",
       "      <td>South Africa</td>\n",
       "      <td>0.333333</td>\n",
       "    </tr>\n",
       "    <tr>\n",
       "      <th>3</th>\n",
       "      <td>3</td>\n",
       "      <td>3</td>\n",
       "      <td>https://www.iol.co.za/news/south-africa/wester...</td>\n",
       "      <td>Shock as woman accused of killing teen girlfri...</td>\n",
       "      <td>iol.co.za</td>\n",
       "      <td>2018-02-27 08:00:00+00:00</td>\n",
       "      <td>South Africa</td>\n",
       "      <td>0.333333</td>\n",
       "    </tr>\n",
       "    <tr>\n",
       "      <th>4</th>\n",
       "      <td>4</td>\n",
       "      <td>4</td>\n",
       "      <td>https://www.iol.co.za/business-report/careers/...</td>\n",
       "      <td>TOP STORY: Meet South Africa's new first lady ...</td>\n",
       "      <td>iol.co.za</td>\n",
       "      <td>2018-02-15 08:00:00+00:00</td>\n",
       "      <td>South Africa</td>\n",
       "      <td>0.166667</td>\n",
       "    </tr>\n",
       "  </tbody>\n",
       "</table>\n",
       "</div>"
      ],
      "text/plain": [
       "   index  Unnamed: 0                                                url  \\\n",
       "0      0           0  https://www.iol.co.za/entertainment/movies-the...   \n",
       "1      1           1  https://www.iol.co.za/entertainment/music/the-...   \n",
       "2      2           2  https://www.iol.co.za/entertainment/celebrity-...   \n",
       "3      3           3  https://www.iol.co.za/news/south-africa/wester...   \n",
       "4      4           4  https://www.iol.co.za/business-report/careers/...   \n",
       "\n",
       "                                    headline_no_site       site  \\\n",
       "0         'Lady Bird' buzzes through young sexuality  iol.co.za   \n",
       "1  The shadowy urban POP super Starrah who loves ...  iol.co.za   \n",
       "2  Rihanna pens heartfelt tribute to her mom in b...  iol.co.za   \n",
       "3  Shock as woman accused of killing teen girlfri...  iol.co.za   \n",
       "4  TOP STORY: Meet South Africa's new first lady ...  iol.co.za   \n",
       "\n",
       "                        time       country      bias  \n",
       "0  2018-02-23 08:00:00+00:00  South Africa  0.000000  \n",
       "1  2018-01-10 08:00:00+00:00  South Africa  0.166667  \n",
       "2  2018-02-21 08:00:00+00:00  South Africa  0.333333  \n",
       "3  2018-02-27 08:00:00+00:00  South Africa  0.333333  \n",
       "4  2018-02-15 08:00:00+00:00  South Africa  0.166667  "
      ]
     },
     "execution_count": 4,
     "metadata": {},
     "output_type": "execute_result"
    }
   ],
   "source": [
    "data.head()\n",
    "\n"
   ]
  },
  {
   "attachments": {},
   "cell_type": "markdown",
   "metadata": {},
   "source": [
    "Columns to drop \n",
    "index, unndaed: 0, url, site, time, country"
   ]
  },
  {
   "cell_type": "code",
   "execution_count": 5,
   "metadata": {},
   "outputs": [
    {
     "data": {
      "text/html": [
       "<div>\n",
       "<style scoped>\n",
       "    .dataframe tbody tr th:only-of-type {\n",
       "        vertical-align: middle;\n",
       "    }\n",
       "\n",
       "    .dataframe tbody tr th {\n",
       "        vertical-align: top;\n",
       "    }\n",
       "\n",
       "    .dataframe thead th {\n",
       "        text-align: right;\n",
       "    }\n",
       "</style>\n",
       "<table border=\"1\" class=\"dataframe\">\n",
       "  <thead>\n",
       "    <tr style=\"text-align: right;\">\n",
       "      <th></th>\n",
       "      <th>headline_no_site</th>\n",
       "      <th>bias</th>\n",
       "    </tr>\n",
       "  </thead>\n",
       "  <tbody>\n",
       "    <tr>\n",
       "      <th>0</th>\n",
       "      <td>'Lady Bird' buzzes through young sexuality</td>\n",
       "      <td>0.000000</td>\n",
       "    </tr>\n",
       "    <tr>\n",
       "      <th>1</th>\n",
       "      <td>The shadowy urban POP super Starrah who loves ...</td>\n",
       "      <td>0.166667</td>\n",
       "    </tr>\n",
       "    <tr>\n",
       "      <th>2</th>\n",
       "      <td>Rihanna pens heartfelt tribute to her mom in b...</td>\n",
       "      <td>0.333333</td>\n",
       "    </tr>\n",
       "    <tr>\n",
       "      <th>3</th>\n",
       "      <td>Shock as woman accused of killing teen girlfri...</td>\n",
       "      <td>0.333333</td>\n",
       "    </tr>\n",
       "    <tr>\n",
       "      <th>4</th>\n",
       "      <td>TOP STORY: Meet South Africa's new first lady ...</td>\n",
       "      <td>0.166667</td>\n",
       "    </tr>\n",
       "  </tbody>\n",
       "</table>\n",
       "</div>"
      ],
      "text/plain": [
       "                                    headline_no_site      bias\n",
       "0         'Lady Bird' buzzes through young sexuality  0.000000\n",
       "1  The shadowy urban POP super Starrah who loves ...  0.166667\n",
       "2  Rihanna pens heartfelt tribute to her mom in b...  0.333333\n",
       "3  Shock as woman accused of killing teen girlfri...  0.333333\n",
       "4  TOP STORY: Meet South Africa's new first lady ...  0.166667"
      ]
     },
     "execution_count": 5,
     "metadata": {},
     "output_type": "execute_result"
    }
   ],
   "source": [
    "#Drop un needed columns \n",
    "\n",
    "if all(col in data.columns for col in ['index', 'Unnamed: 0', 'url', 'site', 'time', 'country']):\n",
    "    data.drop(columns=['index', 'Unnamed: 0', 'url', 'site', 'time', 'country'], inplace=True)\n",
    "\n",
    "data.head()\n"
   ]
  },
  {
   "cell_type": "code",
   "execution_count": 6,
   "metadata": {},
   "outputs": [
    {
     "name": "stdout",
     "output_type": "stream",
     "text": [
      "Empty DataFrame\n",
      "Columns: [headline_no_site, bias]\n",
      "Index: []\n"
     ]
    }
   ],
   "source": [
    "#Checking for blank rows \n",
    "\n",
    "# show blank rows\n",
    "blank_df = data.isnull().any(axis=1)\n",
    "blank_rows = data[blank_df]\n",
    "print(blank_rows)"
   ]
  },
  {
   "cell_type": "code",
   "execution_count": 7,
   "metadata": {},
   "outputs": [
    {
     "data": {
      "image/png": "[encoded data removed]",
      "text/plain": [
       "<Figure size 640x480 with 1 Axes>"
      ]
     },
     "metadata": {},
     "output_type": "display_data"
    }
   ],
   "source": [
    "#ploting labels \n",
    "sns.histplot(data=data, x=\"bias\", kde=False, bins=10)\n",
    "plt.show()\n",
    "\n"
   ]
  },
  {
   "cell_type": "code",
   "execution_count": 8,
   "metadata": {},
   "outputs": [
    {
     "name": "stdout",
     "output_type": "stream",
     "text": [
      "There are 14281 duplicates in the 'headline_no_site' column.\n",
      "Now there are 0 duplicates in the 'headline_no_site' column.\n"
     ]
    }
   ],
   "source": [
    "#Duplicates \n",
    "\n",
    "duplicate_= data.duplicated(subset=['headline_no_site']).sum()\n",
    "\n",
    "print(f\"There are {duplicate_} duplicates in the 'headline_no_site' column.\")\n",
    "\n",
    "if duplicate_ > 0:\n",
    "    data.drop_duplicates(subset=['headline_no_site'], inplace=True, keep='first')\n",
    "    dups_= data.duplicated(subset=['headline_no_site']).sum()\n",
    "    print(f\"Now there are {dups_} duplicates in the 'headline_no_site' column.\")"
   ]
  },
  {
   "cell_type": "code",
   "execution_count": null,
   "metadata": {},
   "outputs": [],
   "source": []
  },
  {
   "attachments": {},
   "cell_type": "markdown",
   "metadata": {},
   "source": [
    "#Model training"
   ]
  },
  {
   "cell_type": "code",
   "execution_count": 9,
   "metadata": {},
   "outputs": [],
   "source": [
    "#imports \n",
    "from sklearn import metrics\n",
    "from sklearn.model_selection import train_test_split\n",
    "\n",
    "from sklearn.metrics import confusion_matrix,f1_score\n",
    "from sklearn.metrics import accuracy_score\n",
    "\n"
   ]
  },
  {
   "cell_type": "code",
   "execution_count": 10,
   "metadata": {},
   "outputs": [
    {
     "name": "stdout",
     "output_type": "stream",
     "text": [
      "(257500,)\n",
      "(257500,)\n",
      "(110358,)\n",
      "(110358,)\n"
     ]
    }
   ],
   "source": [
    "#split dataset \n",
    "\n",
    "X =data['headline_no_site']\n",
    "y = data['bias']\n",
    "\n",
    "X_train, X_test, y_train, y_test = train_test_split(X,y, test_size = 0.3, random_state = 42)\n",
    "\n",
    "print(X_train.shape)\n",
    "print(y_train.shape)\n",
    "\n",
    "print(X_test.shape)\n",
    "print(y_test.shape)"
   ]
  },
  {
   "attachments": {},
   "cell_type": "markdown",
   "metadata": {},
   "source": [
    "#Random Forest "
   ]
  },
  {
   "cell_type": "code",
   "execution_count": 11,
   "metadata": {},
   "outputs": [],
   "source": [
    "from sklearn.ensemble import RandomForestClassifier\n",
    "from sklearn.feature_extraction.text import CountVectorizer, TfidfTransformer\n"
   ]
  },
  {
   "cell_type": "code",
   "execution_count": 12,
   "metadata": {},
   "outputs": [
    {
     "name": "stdout",
     "output_type": "stream",
     "text": [
      "(257500, 74535)\n",
      "(257500, 74535)\n"
     ]
    }
   ],
   "source": [
    "#Bag of word\n",
    "\n",
    "#create token of matrix\n",
    "vector = CountVectorizer(stop_words='english')\n",
    "\n",
    "#Normalize and add weighting\n",
    "transformer = TfidfTransformer(norm = 'l2', sublinear_tf= True)\n",
    "\n",
    "#train data\n",
    "X_train_counts = vector.fit_transform(X_train)\n",
    "X_train_tfidf = transformer.fit_transform(X_train_counts)\n",
    "\n",
    "print(X_train_counts.shape)\n",
    "print(X_train_tfidf.shape)\n",
    "\n"
   ]
  },
  {
   "cell_type": "code",
   "execution_count": 13,
   "metadata": {},
   "outputs": [
    {
     "name": "stdout",
     "output_type": "stream",
     "text": [
      "(110358, 74535)\n",
      "(110358, 74535)\n"
     ]
    }
   ],
   "source": [
    "#Train data test\n",
    "X_test_counts = vector.transform(X_test)\n",
    "X_test_tfidf = transformer.transform(X_test_counts)\n",
    "\n",
    "print(X_test_counts.shape)\n",
    "print(X_test_tfidf.shape)\n",
    "\n",
    "\n"
   ]
  },
  {
   "cell_type": "code",
   "execution_count": 15,
   "metadata": {},
   "outputs": [
    {
     "ename": "ValueError",
     "evalue": "Unknown label type: 'continuous'",
     "output_type": "error",
     "traceback": [
      "\u001b[0;31m---------------------------------------------------------------------------\u001b[0m",
      "\u001b[0;31mValueError\u001b[0m                                Traceback (most recent call last)",
      "Cell \u001b[0;32mIn[15], line 2\u001b[0m\n\u001b[1;32m      1\u001b[0m model_tree \u001b[39m=\u001b[39m RandomForestClassifier(n_estimators\u001b[39m=\u001b[39m\u001b[39m200\u001b[39m)\n\u001b[0;32m----> 2\u001b[0m model_tree\u001b[39m.\u001b[39;49mfit(X_train_tfidf,y_train)\n",
      "File \u001b[0;32m~/Library/CloudStorage/OneDrive-UWEBristol/Project/Code/20048573_mastersproject_2023/20048573_MastersProject_2023/env/lib/python3.9/site-packages/sklearn/ensemble/_forest.py:385\u001b[0m, in \u001b[0;36mBaseForest.fit\u001b[0;34m(self, X, y, sample_weight)\u001b[0m\n\u001b[1;32m    378\u001b[0m         \u001b[39mraise\u001b[39;00m \u001b[39mValueError\u001b[39;00m(\n\u001b[1;32m    379\u001b[0m             \u001b[39m\"\u001b[39m\u001b[39mSum of y is not strictly positive which \u001b[39m\u001b[39m\"\u001b[39m\n\u001b[1;32m    380\u001b[0m             \u001b[39m\"\u001b[39m\u001b[39mis necessary for Poisson regression.\u001b[39m\u001b[39m\"\u001b[39m\n\u001b[1;32m    381\u001b[0m         )\n\u001b[1;32m    383\u001b[0m \u001b[39mself\u001b[39m\u001b[39m.\u001b[39mn_outputs_ \u001b[39m=\u001b[39m y\u001b[39m.\u001b[39mshape[\u001b[39m1\u001b[39m]\n\u001b[0;32m--> 385\u001b[0m y, expanded_class_weight \u001b[39m=\u001b[39m \u001b[39mself\u001b[39;49m\u001b[39m.\u001b[39;49m_validate_y_class_weight(y)\n\u001b[1;32m    387\u001b[0m \u001b[39mif\u001b[39;00m \u001b[39mgetattr\u001b[39m(y, \u001b[39m\"\u001b[39m\u001b[39mdtype\u001b[39m\u001b[39m\"\u001b[39m, \u001b[39mNone\u001b[39;00m) \u001b[39m!=\u001b[39m DOUBLE \u001b[39mor\u001b[39;00m \u001b[39mnot\u001b[39;00m y\u001b[39m.\u001b[39mflags\u001b[39m.\u001b[39mcontiguous:\n\u001b[1;32m    388\u001b[0m     y \u001b[39m=\u001b[39m np\u001b[39m.\u001b[39mascontiguousarray(y, dtype\u001b[39m=\u001b[39mDOUBLE)\n",
      "File \u001b[0;32m~/Library/CloudStorage/OneDrive-UWEBristol/Project/Code/20048573_mastersproject_2023/20048573_MastersProject_2023/env/lib/python3.9/site-packages/sklearn/ensemble/_forest.py:746\u001b[0m, in \u001b[0;36mForestClassifier._validate_y_class_weight\u001b[0;34m(self, y)\u001b[0m\n\u001b[1;32m    745\u001b[0m \u001b[39mdef\u001b[39;00m \u001b[39m_validate_y_class_weight\u001b[39m(\u001b[39mself\u001b[39m, y):\n\u001b[0;32m--> 746\u001b[0m     check_classification_targets(y)\n\u001b[1;32m    748\u001b[0m     y \u001b[39m=\u001b[39m np\u001b[39m.\u001b[39mcopy(y)\n\u001b[1;32m    749\u001b[0m     expanded_class_weight \u001b[39m=\u001b[39m \u001b[39mNone\u001b[39;00m\n",
      "File \u001b[0;32m~/Library/CloudStorage/OneDrive-UWEBristol/Project/Code/20048573_mastersproject_2023/20048573_MastersProject_2023/env/lib/python3.9/site-packages/sklearn/utils/multiclass.py:207\u001b[0m, in \u001b[0;36mcheck_classification_targets\u001b[0;34m(y)\u001b[0m\n\u001b[1;32m    199\u001b[0m y_type \u001b[39m=\u001b[39m type_of_target(y, input_name\u001b[39m=\u001b[39m\u001b[39m\"\u001b[39m\u001b[39my\u001b[39m\u001b[39m\"\u001b[39m)\n\u001b[1;32m    200\u001b[0m \u001b[39mif\u001b[39;00m y_type \u001b[39mnot\u001b[39;00m \u001b[39min\u001b[39;00m [\n\u001b[1;32m    201\u001b[0m     \u001b[39m\"\u001b[39m\u001b[39mbinary\u001b[39m\u001b[39m\"\u001b[39m,\n\u001b[1;32m    202\u001b[0m     \u001b[39m\"\u001b[39m\u001b[39mmulticlass\u001b[39m\u001b[39m\"\u001b[39m,\n\u001b[0;32m   (...)\u001b[0m\n\u001b[1;32m    205\u001b[0m     \u001b[39m\"\u001b[39m\u001b[39mmultilabel-sequences\u001b[39m\u001b[39m\"\u001b[39m,\n\u001b[1;32m    206\u001b[0m ]:\n\u001b[0;32m--> 207\u001b[0m     \u001b[39mraise\u001b[39;00m \u001b[39mValueError\u001b[39;00m(\u001b[39m\"\u001b[39m\u001b[39mUnknown label type: \u001b[39m\u001b[39m%r\u001b[39;00m\u001b[39m\"\u001b[39m \u001b[39m%\u001b[39m y_type)\n",
      "\u001b[0;31mValueError\u001b[0m: Unknown label type: 'continuous'"
     ]
    }
   ],
   "source": [
    "model_tree = RandomForestClassifier(n_estimators=200)\n",
    "model_tree.fit(X_train_tfidf,y_train)"
   ]
  }
 ],
 "metadata": {
  "kernelspec": {
   "display_name": "env",
   "language": "python",
   "name": "python3"
  },
  "language_info": {
   "codemirror_mode": {
    "name": "ipython",
    "version": 3
   },
   "file_extension": ".py",
   "mimetype": "text/x-python",
   "name": "python",
   "nbconvert_exporter": "python",
   "pygments_lexer": "ipython3",
   "version": "3.9.4"
  },
  "orig_nbformat": 4
 },
 "nbformat": 4,
 "nbformat_minor": 2
}
