{
 "cells": [
  {
   "attachments": {},
   "cell_type": "markdown",
   "metadata": {},
   "source": [
    "# Overview\n",
    "\n"
   ]
  },
  {
   "cell_type": "code",
   "execution_count": 3,
   "metadata": {},
   "outputs": [
    {
     "ename": "ModuleNotFoundError",
     "evalue": "No module named 'pandas'",
     "output_type": "error",
     "traceback": [
      "\u001b[0;31m---------------------------------------------------------------------------\u001b[0m",
      "\u001b[0;31mModuleNotFoundError\u001b[0m                       Traceback (most recent call last)",
      "Cell \u001b[0;32mIn[3], line 3\u001b[0m\n\u001b[1;32m      1\u001b[0m \u001b[39m#Core imports\u001b[39;00m\n\u001b[0;32m----> 3\u001b[0m \u001b[39mimport\u001b[39;00m \u001b[39mpandas\u001b[39;00m \u001b[39mas\u001b[39;00m \u001b[39mpd\u001b[39;00m\n\u001b[1;32m      4\u001b[0m \u001b[39mimport\u001b[39;00m \u001b[39mnumpy\u001b[39;00m \u001b[39mas\u001b[39;00m \u001b[39mnp\u001b[39;00m\n\u001b[1;32m      5\u001b[0m \u001b[39mimport\u001b[39;00m \u001b[39mseaborn\u001b[39;00m \u001b[39mas\u001b[39;00m \u001b[39msns\u001b[39;00m\n",
      "\u001b[0;31mModuleNotFoundError\u001b[0m: No module named 'pandas'"
     ]
    }
   ],
   "source": [
    "#Core imports\n",
    "\n",
    "import pandas as pd\n",
    "import numpy as np\n",
    "import seaborn as sns\n",
    "import matplotlib.pyplot as plt\n"
   ]
  },
  {
   "cell_type": "code",
   "execution_count": null,
   "metadata": {},
   "outputs": [],
   "source": [
    "#Import data\n",
    "\n",
    "data = pd.read_csv('../ads/Advertisement_Transcripts.csv')"
   ]
  },
  {
   "cell_type": "code",
   "execution_count": null,
   "metadata": {},
   "outputs": [],
   "source": [
    "#explore data\n",
    "data.info()\n",
    "\n",
    "#5 columns with 1,9935 enties \n",
    "#the label column is blank and will be dropped for exploration "
   ]
  },
  {
   "cell_type": "code",
   "execution_count": null,
   "metadata": {},
   "outputs": [],
   "source": [
    "if 'label' in data.columns:\n",
    "    data.drop(columns='label', inplace= True)\n",
    "\n",
    "data.head()"
   ]
  },
  {
   "cell_type": "code",
   "execution_count": null,
   "metadata": {},
   "outputs": [],
   "source": [
    "#Checking for blank rows \n",
    "\n",
    "# show blank rows\n",
    "blank_df = data.isnull().any(axis=1)\n",
    "blank_rows = data[blank_df]\n",
    "print(blank_rows)\n",
    "\n",
    "# drop row 1935 \n",
    "if 1935 in data.index:\n",
    "    if data.loc[1935].isnull().all():\n",
    "        data.drop(index=1935, inplace=True)\n",
    "\n",
    "print(data.isnull().sum())"
   ]
  },
  {
   "cell_type": "code",
   "execution_count": null,
   "metadata": {},
   "outputs": [],
   "source": [
    "#Explore groups\n",
    "category_counts = data['Category'].value_counts()\n",
    "\n",
    "\n",
    "# print the results\n",
    "print('Category counts:\\n', category_counts)\n",
    "\n"
   ]
  },
  {
   "cell_type": "code",
   "execution_count": null,
   "metadata": {},
   "outputs": [],
   "source": [
    "#Visual \n",
    "sns.set_style('whitegrid')\n",
    "plt.figure(figsize=(6, 6))\n",
    "plt.title('Distribution of Categories')\n",
    "sns.color_palette('pastel')\n",
    "plt.pie(category_counts.values, labels=category_counts.index, autopct='%1.1f%%')\n",
    "plt.show()"
   ]
  },
  {
   "cell_type": "code",
   "execution_count": null,
   "metadata": {},
   "outputs": [],
   "source": [
    "#Check for duplicates\n",
    "print(data.describe(include='all'))\n",
    "\n",
    "#There are 26 duplicates\n",
    "duplicate_= data.duplicated(subset=['Ad_copy']).sum()\n",
    "\n",
    "print(f\"There are {duplicate_} duplicates in the 'Ad_copy' column.\")\n",
    "\n",
    "if duplicate_ > 0:\n",
    "    data.drop_duplicates(subset=['Ad_copy'], inplace=True)\n",
    "    dups_= data.duplicated(subset=['Ad_copy']).sum()\n",
    "    print(f\"There are {dups_} duplicates in the 'Ad_copy' column.\")"
   ]
  },
  {
   "attachments": {},
   "cell_type": "markdown",
   "metadata": {},
   "source": [
    "Thinking \n",
    "\n",
    "The plan was to drop all the coulmn expct for the ad copy but it would be intesrestin to see the ratio of words in relation to the catorgy. "
   ]
  },
  {
   "attachments": {},
   "cell_type": "markdown",
   "metadata": {},
   "source": [
    "#Cleaning Data"
   ]
  },
  {
   "cell_type": "code",
   "execution_count": null,
   "metadata": {},
   "outputs": [],
   "source": [
    "#Drop columns not needed\n",
    "if 'Advertiser' in data.columns:\n",
    "    data.drop(columns='Advertiser', inplace= True)\n",
    "if 'Product_or_spot' in data.columns:\n",
    "    data.drop(columns='Product_or_spot', inplace= True)\n",
    "\n",
    "data.head()"
   ]
  },
  {
   "cell_type": "code",
   "execution_count": null,
   "metadata": {},
   "outputs": [],
   "source": [
    "#Add feature for length of tweet and number of words in text\n",
    "data['len'] = data['Ad_copy'].astype(str).apply(len)\n",
    "data['word_count'] = data['Ad_copy'].apply(lambda x: len(str(x).split()))\n",
    "data.head(5)"
   ]
  }
 ],
 "metadata": {
  "kernelspec": {
   "display_name": "Python 3",
   "language": "python",
   "name": "python3"
  },
  "language_info": {
   "codemirror_mode": {
    "name": "ipython",
    "version": 3
   },
   "file_extension": ".py",
   "mimetype": "text/x-python",
   "name": "python",
   "nbconvert_exporter": "python",
   "pygments_lexer": "ipython3",
   "version": "3.11.2"
  },
  "orig_nbformat": 4,
  "vscode": {
   "interpreter": {
    "hash": "aee8b7b246df8f9039afb4144a1f6fd8d2ca17a180786b69acc140d282b71a49"
   }
  }
 },
 "nbformat": 4,
 "nbformat_minor": 2
}
