{
 "cells": [
  {
   "attachments": {},
   "cell_type": "markdown",
   "metadata": {},
   "source": [
    "# Overview\n",
    "\n"
   ]
  },
  {
   "cell_type": "code",
   "execution_count": 21,
   "metadata": {},
   "outputs": [],
   "source": [
    "#Core imports\n",
    "\n",
    "import pandas as pd\n",
    "import numpy as np\n",
    "import seaborn as sns\n",
    "import matplotlib.pyplot as plt\n"
   ]
  },
  {
   "cell_type": "code",
   "execution_count": 2,
   "metadata": {},
   "outputs": [],
   "source": [
    "#Import data\n",
    "\n",
    "data = pd.read_csv('../ads/Advertisement_Transcripts.csv')"
   ]
  },
  {
   "cell_type": "code",
   "execution_count": 3,
   "metadata": {},
   "outputs": [
    {
     "name": "stdout",
     "output_type": "stream",
     "text": [
      "<class 'pandas.core.frame.DataFrame'>\n",
      "RangeIndex: 1936 entries, 0 to 1935\n",
      "Data columns (total 5 columns):\n",
      " #   Column           Non-Null Count  Dtype  \n",
      "---  ------           --------------  -----  \n",
      " 0   Category         1935 non-null   object \n",
      " 1   Advertiser       1935 non-null   object \n",
      " 2   Product_or_spot  1935 non-null   object \n",
      " 3   Ad_copy          1935 non-null   object \n",
      " 4   label            0 non-null      float64\n",
      "dtypes: float64(1), object(4)\n",
      "memory usage: 75.8+ KB\n"
     ]
    }
   ],
   "source": [
    "#explore data\n",
    "data.info()\n",
    "\n",
    "#5 columns with 1,9935 enties \n",
    "#the label column is blank and will be dropped for exploration "
   ]
  },
  {
   "cell_type": "code",
   "execution_count": 4,
   "metadata": {},
   "outputs": [
    {
     "data": {
      "text/html": [
       "<div>\n",
       "<style scoped>\n",
       "    .dataframe tbody tr th:only-of-type {\n",
       "        vertical-align: middle;\n",
       "    }\n",
       "\n",
       "    .dataframe tbody tr th {\n",
       "        vertical-align: top;\n",
       "    }\n",
       "\n",
       "    .dataframe thead th {\n",
       "        text-align: right;\n",
       "    }\n",
       "</style>\n",
       "<table border=\"1\" class=\"dataframe\">\n",
       "  <thead>\n",
       "    <tr style=\"text-align: right;\">\n",
       "      <th></th>\n",
       "      <th>Category</th>\n",
       "      <th>Advertiser</th>\n",
       "      <th>Product_or_spot</th>\n",
       "      <th>Ad_copy</th>\n",
       "    </tr>\n",
       "  </thead>\n",
       "  <tbody>\n",
       "    <tr>\n",
       "      <th>0</th>\n",
       "      <td>Advocacy</td>\n",
       "      <td>23 Women</td>\n",
       "      <td>23 Women</td>\n",
       "      <td>Women make up seventy percent of the labor for...</td>\n",
       "    </tr>\n",
       "    <tr>\n",
       "      <th>1</th>\n",
       "      <td>Advocacy</td>\n",
       "      <td>AARP</td>\n",
       "      <td>AARP</td>\n",
       "      <td>It's right in your own backyard.\\nWhile it may...</td>\n",
       "    </tr>\n",
       "    <tr>\n",
       "      <th>2</th>\n",
       "      <td>Advocacy</td>\n",
       "      <td>Above the Influence</td>\n",
       "      <td>Above the Influence (PSA)</td>\n",
       "      <td>I thought I respected myself. That is, until I...</td>\n",
       "    </tr>\n",
       "    <tr>\n",
       "      <th>3</th>\n",
       "      <td>Advocacy</td>\n",
       "      <td>Adopt-A-Horse</td>\n",
       "      <td>Adopt-A-Horse</td>\n",
       "      <td>If there's a place in your heart for a wild mu...</td>\n",
       "    </tr>\n",
       "    <tr>\n",
       "      <th>4</th>\n",
       "      <td>Advocacy</td>\n",
       "      <td>Amberalert.org</td>\n",
       "      <td>Amberalert.org</td>\n",
       "      <td>When someone abducts a child, they're not abou...</td>\n",
       "    </tr>\n",
       "  </tbody>\n",
       "</table>\n",
       "</div>"
      ],
      "text/plain": [
       "   Category           Advertiser            Product_or_spot  \\\n",
       "0  Advocacy             23 Women                   23 Women   \n",
       "1  Advocacy                 AARP                       AARP   \n",
       "2  Advocacy  Above the Influence  Above the Influence (PSA)   \n",
       "3  Advocacy        Adopt-A-Horse              Adopt-A-Horse   \n",
       "4  Advocacy       Amberalert.org             Amberalert.org   \n",
       "\n",
       "                                             Ad_copy  \n",
       "0  Women make up seventy percent of the labor for...  \n",
       "1  It's right in your own backyard.\\nWhile it may...  \n",
       "2  I thought I respected myself. That is, until I...  \n",
       "3  If there's a place in your heart for a wild mu...  \n",
       "4  When someone abducts a child, they're not abou...  "
      ]
     },
     "execution_count": 4,
     "metadata": {},
     "output_type": "execute_result"
    }
   ],
   "source": [
    "if 'label' in data.columns:\n",
    "    data.drop(columns='label', inplace= True)\n",
    "\n",
    "data.head()"
   ]
  },
  {
   "cell_type": "code",
   "execution_count": 7,
   "metadata": {},
   "outputs": [
    {
     "name": "stdout",
     "output_type": "stream",
     "text": [
      "Empty DataFrame\n",
      "Columns: [Category, Advertiser, Product_or_spot, Ad_copy]\n",
      "Index: []\n",
      "Category           0\n",
      "Advertiser         0\n",
      "Product_or_spot    0\n",
      "Ad_copy            0\n",
      "dtype: int64\n"
     ]
    }
   ],
   "source": [
    "#Checking for blank rows \n",
    "\n",
    "# show blank rows\n",
    "blank_df = data.isnull().any(axis=1)\n",
    "blank_rows = data[blank_df]\n",
    "print(blank_rows)\n",
    "\n",
    "# drop row 1935 \n",
    "if 1935 in data.index:\n",
    "    if data.loc[1935].isnull().all():\n",
    "        data.drop(index=1935, inplace=True)\n",
    "\n",
    "print(data.isnull().sum())"
   ]
  },
  {
   "cell_type": "code",
   "execution_count": 20,
   "metadata": {},
   "outputs": [
    {
     "name": "stdout",
     "output_type": "stream",
     "text": [
      "Category counts:\n",
      " Automotive               289\n",
      "Food & Beverage          244\n",
      "Home & Personal Care     215\n",
      "Travel                   193\n",
      "Advocacy                 156\n",
      "Financial                142\n",
      "Beauty                   103\n",
      "Services                  98\n",
      "Media & Entertainment     74\n",
      "Health Care               73\n",
      "Alcohol & Spirits         64\n",
      "Restaurants               54\n",
      "Retail                    47\n",
      "Telecommunications        44\n",
      "Insurance                 43\n",
      "Education                 24\n",
      "Electronics               16\n",
      "Technology                13\n",
      "Sports                    12\n",
      "Residential               11\n",
      "Political                  8\n",
      "Agricultural               5\n",
      "Appliances                 5\n",
      "HeaLth Care                2\n",
      "Name: Category, dtype: int64\n"
     ]
    },
    {
     "ename": "AttributeError",
     "evalue": "'list' object has no attribute 'sum'",
     "output_type": "error",
     "traceback": [
      "\u001b[0;31m---------------------------------------------------------------------------\u001b[0m",
      "\u001b[0;31mAttributeError\u001b[0m                            Traceback (most recent call last)",
      "Cell \u001b[0;32mIn[20], line 7\u001b[0m\n\u001b[1;32m      5\u001b[0m \u001b[39m# print the results\u001b[39;00m\n\u001b[1;32m      6\u001b[0m \u001b[39mprint\u001b[39m(\u001b[39m'\u001b[39m\u001b[39mCategory counts:\u001b[39m\u001b[39m\\n\u001b[39;00m\u001b[39m'\u001b[39m, category_counts)\n\u001b[0;32m----> 7\u001b[0m \u001b[39mprint\u001b[39m(\u001b[39m'\u001b[39m\u001b[39mAdvertiser counts:\u001b[39m\u001b[39m\\n\u001b[39;00m\u001b[39m'\u001b[39m, [advertiser_counts \u001b[39m>\u001b[39;49m \u001b[39m5\u001b[39;49m]\u001b[39m.\u001b[39;49msum())\n",
      "\u001b[0;31mAttributeError\u001b[0m: 'list' object has no attribute 'sum'"
     ]
    }
   ],
   "source": [
    "#Explore groups\n",
    "category_counts = data['Category'].value_counts()\n",
    "\n",
    "\n",
    "# print the results\n",
    "print('Category counts:\\n', category_counts)\n"
   ]
  },
  {
   "cell_type": "code",
   "execution_count": 17,
   "metadata": {},
   "outputs": [
    {
     "ename": "SyntaxError",
     "evalue": "invalid syntax (2700824956.py, line 1)",
     "output_type": "error",
     "traceback": [
      "\u001b[0;36m  Cell \u001b[0;32mIn[17], line 1\u001b[0;36m\u001b[0m\n\u001b[0;31m    data[].value_counts()\u001b[0m\n\u001b[0m         ^\u001b[0m\n\u001b[0;31mSyntaxError\u001b[0m\u001b[0;31m:\u001b[0m invalid syntax\n"
     ]
    }
   ],
   "source": [
    "data[].value_counts()"
   ]
  }
 ],
 "metadata": {
  "kernelspec": {
   "display_name": "env",
   "language": "python",
   "name": "python3"
  },
  "language_info": {
   "codemirror_mode": {
    "name": "ipython",
    "version": 3
   },
   "file_extension": ".py",
   "mimetype": "text/x-python",
   "name": "python",
   "nbconvert_exporter": "python",
   "pygments_lexer": "ipython3",
   "version": "3.9.4"
  },
  "orig_nbformat": 4,
  "vscode": {
   "interpreter": {
    "hash": "f42d4315cea93b41282dba996345dae8b75e494aa94488f64f5ca801383edaae"
   }
  }
 },
 "nbformat": 4,
 "nbformat_minor": 2
}
