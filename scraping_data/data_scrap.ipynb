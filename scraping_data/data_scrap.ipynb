import BeautifulSoup
import requests 

ads_fb = requests.get("https://www.facebook.com/ads/library/?active_status=all&ad_type=all&country=GB&q=nike&sort_data[direction]=desc&sort_data[mode]=relevancy_monthly_grouped&search_type=keyword_unordered&media_type=all")
print(ads_fb)
